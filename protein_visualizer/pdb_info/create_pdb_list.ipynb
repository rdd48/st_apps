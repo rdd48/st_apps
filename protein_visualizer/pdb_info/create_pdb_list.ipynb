{
 "cells": [
  {
   "cell_type": "code",
   "execution_count": 1,
   "source": [
    "all_pdbs = {'': None}\n",
    "\n",
    "with open('./pdbs.txt') as f_in:\n",
    "    for l in f_in.readlines():\n",
    "        all_pdbs[' '.join(l.split()[1:])] = l.split()[0]\n",
    "        # all_pdbs[l.split()[0]] = ' '.join(l.split()[1:])\n",
    "\n",
    "with open('pdb_names_dict.py', 'w') as f_out:\n",
    "    f_out.write(f'all_pdbs_dict = {all_pdbs}')"
   ],
   "outputs": [],
   "metadata": {}
  },
  {
   "cell_type": "code",
   "execution_count": null,
   "source": [],
   "outputs": [],
   "metadata": {}
  },
  {
   "cell_type": "code",
   "execution_count": null,
   "source": [],
   "outputs": [],
   "metadata": {}
  }
 ],
 "metadata": {
  "orig_nbformat": 4,
  "language_info": {
   "name": "python",
   "version": "3.8.9",
   "mimetype": "text/x-python",
   "codemirror_mode": {
    "name": "ipython",
    "version": 3
   },
   "pygments_lexer": "ipython3",
   "nbconvert_exporter": "python",
   "file_extension": ".py"
  },
  "kernelspec": {
   "name": "python3",
   "display_name": "Python 3.8.9 64-bit"
  },
  "interpreter": {
   "hash": "31f2aee4e71d21fbe5cf8b01ff0e069b9275f58929596ceb00d14d90e3e16cd6"
  }
 },
 "nbformat": 4,
 "nbformat_minor": 2
}